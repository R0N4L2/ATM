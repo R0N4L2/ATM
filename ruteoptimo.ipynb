# -*- coding: utf-8 -*-
"""
Created on Thu May  2 14:27:40 2019

@author: ronal
"""

hola